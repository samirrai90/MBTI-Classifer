{
  "nbformat": 4,
  "nbformat_minor": 0,
  "metadata": {
    "colab": {
      "name": "MBTI Modelling.ipynb",
      "provenance": [],
      "collapsed_sections": []
    },
    "kernelspec": {
      "name": "python3",
      "display_name": "Python 3"
    },
    "language_info": {
      "name": "python"
    }
  },
  "cells": [
    {
      "cell_type": "markdown",
      "source": [
        "#Modelling our MBTI Classifier"
      ],
      "metadata": {
        "id": "qtzW9poixrZc"
      }
    },
    {
      "cell_type": "code",
      "execution_count": 1,
      "metadata": {
        "id": "4hKf0UVqRpGf",
        "colab": {
          "base_uri": "https://localhost:8080/"
        },
        "outputId": "2f363c9d-fac2-4571-dda7-432d19ed50b6"
      },
      "outputs": [
        {
          "output_type": "stream",
          "name": "stdout",
          "text": [
            "Requirement already satisfied: gensim in /usr/local/lib/python3.7/dist-packages (4.1.2)\n",
            "Requirement already satisfied: smart-open>=1.8.1 in /usr/local/lib/python3.7/dist-packages (from gensim) (5.2.1)\n",
            "Requirement already satisfied: scipy>=0.18.1 in /usr/local/lib/python3.7/dist-packages (from gensim) (1.4.1)\n",
            "Requirement already satisfied: numpy>=1.17.0 in /usr/local/lib/python3.7/dist-packages (from gensim) (1.21.5)\n",
            "Requirement already satisfied: gensim in /usr/local/lib/python3.7/dist-packages (4.1.2)\n",
            "Requirement already satisfied: scipy>=0.18.1 in /usr/local/lib/python3.7/dist-packages (from gensim) (1.4.1)\n",
            "Requirement already satisfied: numpy>=1.17.0 in /usr/local/lib/python3.7/dist-packages (from gensim) (1.21.5)\n",
            "Requirement already satisfied: smart-open>=1.8.1 in /usr/local/lib/python3.7/dist-packages (from gensim) (5.2.1)\n"
          ]
        }
      ],
      "source": [
        "# installs required for gensim\n",
        "!pip install gensim\n",
        "!pip install --upgrade gensim\n",
        "\n",
        "## standard imports\n",
        "import pandas as pd\n",
        "import numpy as np\n",
        "import re\n",
        "import seaborn as sns\n",
        "import matplotlib.pyplot as plt\n",
        "\n",
        "# for loading dataset via google drive\n",
        "from google.colab import drive\n",
        "import os\n",
        "\n",
        "## sklearn imports\n",
        "# for prepping data\n",
        "from sklearn.model_selection import StratifiedShuffleSplit\n",
        "from sklearn.model_selection import train_test_split\n",
        "from sklearn.preprocessing import LabelEncoder\n",
        "\n",
        "# countvec & tfidfvec\n",
        "from sklearn.feature_extraction.text import TfidfVectorizer\n",
        "from sklearn.feature_extraction.text import CountVectorizer\n",
        "\n",
        "# classifiers\n",
        "from sklearn.naive_bayes import BernoulliNB, ComplementNB, CategoricalNB, MultinomialNB\n",
        "from sklearn.tree import DecisionTreeClassifier\n",
        "from sklearn.ensemble import RandomForestClassifier\n",
        "from sklearn.linear_model import LogisticRegression\n",
        "\n",
        "# model metrics\n",
        "from sklearn.model_selection import GridSearchCV\n",
        "from sklearn.metrics import classification_report, f1_score, accuracy_score"
      ]
    },
    {
      "cell_type": "markdown",
      "source": [
        "## Loading Data"
      ],
      "metadata": {
        "id": "RBveD_xde9gv"
      }
    },
    {
      "cell_type": "code",
      "source": [
        "## mount google drive\n",
        "drive.mount('/content/drive')"
      ],
      "metadata": {
        "colab": {
          "base_uri": "https://localhost:8080/"
        },
        "id": "cvo48tunSOda",
        "outputId": "fb36ebe4-2670-43b3-de76-6e40965ac094"
      },
      "execution_count": 2,
      "outputs": [
        {
          "output_type": "stream",
          "name": "stdout",
          "text": [
            "Drive already mounted at /content/drive; to attempt to forcibly remount, call drive.mount(\"/content/drive\", force_remount=True).\n"
          ]
        }
      ]
    },
    {
      "cell_type": "code",
      "source": [
        "# Change the current working directory\n",
        "#os.chdir(\"drive/MyDrive/Capstone data \")\n",
        "os.chdir(\"drive/MyDrive/Capstone/data\")"
      ],
      "metadata": {
        "id": "OtYjoxnCSPoZ"
      },
      "execution_count": 3,
      "outputs": []
    },
    {
      "cell_type": "code",
      "source": [
        "# if unzipping needed\n",
        "#!unzip MBTI_500.zip"
      ],
      "metadata": {
        "id": "kpnzXQPbSTuu"
      },
      "execution_count": 4,
      "outputs": []
    },
    {
      "cell_type": "code",
      "source": [
        "mbti = pd.read_csv('MBTI 500.csv')"
      ],
      "metadata": {
        "id": "NpC-EjCySUP8"
      },
      "execution_count": 5,
      "outputs": []
    },
    {
      "cell_type": "code",
      "source": [
        "mbti.shape"
      ],
      "metadata": {
        "colab": {
          "base_uri": "https://localhost:8080/"
        },
        "id": "oCPyZS4JSiLK",
        "outputId": "e6b47d62-9bd0-4e74-934e-303b5509a975"
      },
      "execution_count": 6,
      "outputs": [
        {
          "output_type": "execute_result",
          "data": {
            "text/plain": [
              "(106067, 2)"
            ]
          },
          "metadata": {},
          "execution_count": 6
        }
      ]
    },
    {
      "cell_type": "markdown",
      "source": [
        "## Quick Visualistaion of Personality Distribution"
      ],
      "metadata": {
        "id": "tgnOGL9KxaEy"
      }
    },
    {
      "cell_type": "code",
      "source": [
        "# mbti.groupby('type').count()"
      ],
      "metadata": {
        "id": "su4F4m6yghKf"
      },
      "execution_count": 7,
      "outputs": []
    },
    {
      "cell_type": "code",
      "source": [
        "plt.figure(figsize=(20,10))\n",
        "chart = sns.countplot(x=\"type\", data=mbti, palette = 'colorblind',\n",
        "              order = mbti['type'].value_counts().index)\n",
        "\n",
        "for p in chart.patches:\n",
        "    chart.annotate(format(p.get_height(), '.0f'), \n",
        "                   (p.get_x() + p.get_width() / 2., p.get_height()), \n",
        "                   ha = 'center', va = 'center', \n",
        "                   size=14,\n",
        "                   xytext = (0, 6), \n",
        "                   textcoords = 'offset points')\n",
        "\n",
        "plt.title('Personality Type Count in our Data',size=20)\n",
        "plt.xlabel('Type',size=17)\n",
        "plt.xticks(size=15)\n",
        "plt.ylabel('Count',size=17)\n",
        "plt.yticks(size=15)\n",
        "None"
      ],
      "metadata": {
        "colab": {
          "base_uri": "https://localhost:8080/",
          "height": 639
        },
        "id": "ayRK9J6MUXzv",
        "outputId": "e2b87db6-8507-467e-e0a9-dffa00f0ee74"
      },
      "execution_count": 8,
      "outputs": [
        {
          "output_type": "display_data",
          "data": {
            "text/plain": [
              "<Figure size 1440x720 with 1 Axes>"
            ],
            "image/png": "[encoded data removed]"
          },
          "metadata": {
            "needs_background": "light"
          }
        }
      ]
    },
    {
      "cell_type": "markdown",
      "source": [
        "We can see here that the data is extremely skewed and in order for our models to get a good unbiased idea of each personality, we have decided to evenly sample each personality when prepping our data."
      ],
      "metadata": {
        "id": "QkNLwnSNxDUt"
      }
    },
    {
      "cell_type": "markdown",
      "source": [
        "## Prepping Data"
      ],
      "metadata": {
        "id": "q2uz3LvFSsFY"
      }
    },
    {
      "cell_type": "markdown",
      "source": [
        "### Sampling Data"
      ],
      "metadata": {
        "id": "Dlul1jINWOG8"
      }
    },
    {
      "cell_type": "code",
      "source": [
        "# splitting data to get 180 instances of each personality\n",
        "types = list(mbti.type.unique())\n",
        "\n",
        "# creating a dict of dataframes containing each mbti\n",
        "dfs = dict()\n",
        "for typ in types:\n",
        "  dfs[typ] = mbti.loc[mbti.type == typ].iloc[:180]"
      ],
      "metadata": {
        "id": "ynspUujjVl09"
      },
      "execution_count": 9,
      "outputs": []
    },
    {
      "cell_type": "code",
      "source": [
        "personalities = list(dfs.keys()) # list of all personalities\n",
        "del personalities[0] # removing INTJ for when concatinating into one dataframe"
      ],
      "metadata": {
        "id": "4G4UXlswWP15"
      },
      "execution_count": 10,
      "outputs": []
    },
    {
      "cell_type": "code",
      "source": [
        "mbti_equal = dfs['INTJ']\n",
        "\n",
        "# concatinating into one dataframe\n",
        "for personality in personalities:\n",
        "  mbti_equal = pd.concat([mbti_equal,dfs[personality]])"
      ],
      "metadata": {
        "id": "e518G_O0Y5ei"
      },
      "execution_count": 11,
      "outputs": []
    },
    {
      "cell_type": "code",
      "source": [
        "df = mbti_equal.copy()\n",
        "df = df[['type','posts']]\n",
        "\n",
        "#df"
      ],
      "metadata": {
        "id": "LbZkobiOSifV"
      },
      "execution_count": 12,
      "outputs": []
    },
    {
      "cell_type": "markdown",
      "source": [
        "### Cleaning Data"
      ],
      "metadata": {
        "id": "MwecTaZVWStu"
      }
    },
    {
      "cell_type": "code",
      "source": [
        "def remove_for(string):\n",
        "\n",
        "    \"\"\" Function which removes foreign chars from string \"\"\"\n",
        "    \n",
        "    foreign = re.compile(\"[\" \n",
        "                           u\"\\U00002500-\\U00002BEF\"  # chinese char\n",
        "                           u\"\\U000024C2-\\U0001F251\"\n",
        "                           u\"\\U0001f926-\\U0001f937\"\n",
        "                           u\"\\U00010000-\\U0010ffff\"\n",
        "                           u\"\\u2640-\\u2642\" \n",
        "                           u\"\\u2600-\\u2B55\"\n",
        "                           u\"\\u200d\"\n",
        "                           u\"\\u23cf\"\n",
        "                           u\"\\u23e9\"\n",
        "                           u\"\\u231a\"\n",
        "                           u\"\\ufe0f\"  # dingbats\n",
        "                           u\"\\u3030\"\n",
        "                           \"]+\", flags=re.UNICODE)\n",
        "    return foreign.sub(r'', string) # return string without emojis"
      ],
      "metadata": {
        "id": "3rj6P6mBlpqM"
      },
      "execution_count": 13,
      "outputs": []
    },
    {
      "cell_type": "code",
      "source": [
        "def token_clean(s):\n",
        "\n",
        "  \"\"\" Removes double spaces and single letters. Then simply tokenizes using split function \"\"\"\n",
        "  \n",
        "  no_space =  re.sub('\\s+', ' ',s).strip()    \n",
        "  tkn_list = no_space.split()\n",
        "  sc_list=[word for word in tkn_list if len(word) != 1]\n",
        "  return sc_list"
      ],
      "metadata": {
        "id": "H67rKqY7UI18"
      },
      "execution_count": 14,
      "outputs": []
    },
    {
      "cell_type": "code",
      "source": [
        "def sentence(l):\n",
        "\n",
        "  \"\"\" Converts list of tokens into sentences \"\"\"\n",
        "  \n",
        "  empty = ''\n",
        "  for word in l:\n",
        "    empty = empty +' '+ word\n",
        "  return empty"
      ],
      "metadata": {
        "id": "kbxZfhTFYgwN"
      },
      "execution_count": 15,
      "outputs": []
    },
    {
      "cell_type": "code",
      "source": [
        "df.reset_index(inplace=True)"
      ],
      "metadata": {
        "id": "OF9s6DxrbTla"
      },
      "execution_count": 16,
      "outputs": []
    },
    {
      "cell_type": "code",
      "source": [
        "df['posts'] = df['posts'].apply(remove_for)\n",
        "df['clean_tkn'] = df.posts.apply(token_clean)\n",
        "df['sentences'] = df.clean_tkn.apply(sentence)"
      ],
      "metadata": {
        "id": "3xzYBf7VPNZH"
      },
      "execution_count": 17,
      "outputs": []
    },
    {
      "cell_type": "code",
      "source": [
        "# creating labels for target values (type of personality)\n",
        "lbl = LabelEncoder()\n",
        "df['labels'] = lbl.fit_transform(df.type)"
      ],
      "metadata": {
        "id": "hz0CL5QhU2PR"
      },
      "execution_count": 18,
      "outputs": []
    },
    {
      "cell_type": "code",
      "source": [
        "df"
      ],
      "metadata": {
        "colab": {
          "base_uri": "https://localhost:8080/",
          "height": 424
        },
        "id": "gySq-k5vcZOH",
        "outputId": "1a3df8bf-d772-4d6d-8583-218bc997b740"
      },
      "execution_count": 19,
      "outputs": [
        {
          "output_type": "execute_result",
          "data": {
            "text/plain": [
              "      index  type                                              posts  \\\n",
              "0         0  INTJ  know intj tool use interaction people excuse a...   \n",
              "1         1  INTJ  rap music ehh opp yeah know valid well know fa...   \n",
              "2         2  INTJ  preferably p hd low except wew lad video p min...   \n",
              "3         3  INTJ  drink like wish could drink red wine give head...   \n",
              "4         4  INTJ  space program ah bad deal meing freelance max ...   \n",
              "...     ...   ...                                                ...   \n",
              "2875  94108  INFP  wonder fuck crap happen lot point idea really ...   \n",
              "2876  94109  INFP  maybe enfj probably fe dom sjokz isfp deficio ...   \n",
              "2877  94110  INFP  say symptom mine im say infp people sort perso...   \n",
              "2878  94111  INFP  belief word sound like word someone close mind...   \n",
              "2879  94112  INFP  confuse process think hold lot merit read yes ...   \n",
              "\n",
              "                                              clean_tkn  \\\n",
              "0     [know, intj, tool, use, interaction, people, e...   \n",
              "1     [rap, music, ehh, opp, yeah, know, valid, well...   \n",
              "2     [preferably, hd, low, except, wew, lad, video,...   \n",
              "3     [drink, like, wish, could, drink, red, wine, g...   \n",
              "4     [space, program, ah, bad, deal, meing, freelan...   \n",
              "...                                                 ...   \n",
              "2875  [wonder, fuck, crap, happen, lot, point, idea,...   \n",
              "2876  [maybe, enfj, probably, fe, dom, sjokz, isfp, ...   \n",
              "2877  [say, symptom, mine, im, say, infp, people, so...   \n",
              "2878  [belief, word, sound, like, word, someone, clo...   \n",
              "2879  [confuse, process, think, hold, lot, merit, re...   \n",
              "\n",
              "                                              sentences  labels  \n",
              "0      know intj tool use interaction people excuse ...      10  \n",
              "1      rap music ehh opp yeah know valid well know f...      10  \n",
              "2      preferably hd low except wew lad video mind g...      10  \n",
              "3      drink like wish could drink red wine give hea...      10  \n",
              "4      space program ah bad deal meing freelance max...      10  \n",
              "...                                                 ...     ...  \n",
              "2875   wonder fuck crap happen lot point idea really...       9  \n",
              "2876   maybe enfj probably fe dom sjokz isfp deficio...       9  \n",
              "2877   say symptom mine im say infp people sort pers...       9  \n",
              "2878   belief word sound like word someone close min...       9  \n",
              "2879   confuse process think hold lot merit read yes...       9  \n",
              "\n",
              "[2880 rows x 6 columns]"
            ],
            "text/html": [
              "\n",
              "  <div id=\"df-d9ceacca-9576-4106-a996-2855bf76b68e\">\n",
              "    <div class=\"colab-df-container\">\n",
              "      <div>\n",
              "<style scoped>\n",
              "    .dataframe tbody tr th:only-of-type {\n",
              "        vertical-align: middle;\n",
              "    }\n",
              "\n",
              "    .dataframe tbody tr th {\n",
              "        vertical-align: top;\n",
              "    }\n",
              "\n",
              "    .dataframe thead th {\n",
              "        text-align: right;\n",
              "    }\n",
              "</style>\n",
              "<table border=\"1\" class=\"dataframe\">\n",
              "  <thead>\n",
              "    <tr style=\"text-align: right;\">\n",
              "      <th></th>\n",
              "      <th>index</th>\n",
              "      <th>type</th>\n",
              "      <th>posts</th>\n",
              "      <th>clean_tkn</th>\n",
              "      <th>sentences</th>\n",
              "      <th>labels</th>\n",
              "    </tr>\n",
              "  </thead>\n",
              "  <tbody>\n",
              "    <tr>\n",
              "      <th>0</th>\n",
              "      <td>0</td>\n",
              "      <td>INTJ</td>\n",
              "      <td>know intj tool use interaction people excuse a...</td>\n",
              "      <td>[know, intj, tool, use, interaction, people, e...</td>\n",
              "      <td>know intj tool use interaction people excuse ...</td>\n",
              "      <td>10</td>\n",
              "    </tr>\n",
              "    <tr>\n",
              "      <th>1</th>\n",
              "      <td>1</td>\n",
              "      <td>INTJ</td>\n",
              "      <td>rap music ehh opp yeah know valid well know fa...</td>\n",
              "      <td>[rap, music, ehh, opp, yeah, know, valid, well...</td>\n",
              "      <td>rap music ehh opp yeah know valid well know f...</td>\n",
              "      <td>10</td>\n",
              "    </tr>\n",
              "    <tr>\n",
              "      <th>2</th>\n",
              "      <td>2</td>\n",
              "      <td>INTJ</td>\n",
              "      <td>preferably p hd low except wew lad video p min...</td>\n",
              "      <td>[preferably, hd, low, except, wew, lad, video,...</td>\n",
              "      <td>preferably hd low except wew lad video mind g...</td>\n",
              "      <td>10</td>\n",
              "    </tr>\n",
              "    <tr>\n",
              "      <th>3</th>\n",
              "      <td>3</td>\n",
              "      <td>INTJ</td>\n",
              "      <td>drink like wish could drink red wine give head...</td>\n",
              "      <td>[drink, like, wish, could, drink, red, wine, g...</td>\n",
              "      <td>drink like wish could drink red wine give hea...</td>\n",
              "      <td>10</td>\n",
              "    </tr>\n",
              "    <tr>\n",
              "      <th>4</th>\n",
              "      <td>4</td>\n",
              "      <td>INTJ</td>\n",
              "      <td>space program ah bad deal meing freelance max ...</td>\n",
              "      <td>[space, program, ah, bad, deal, meing, freelan...</td>\n",
              "      <td>space program ah bad deal meing freelance max...</td>\n",
              "      <td>10</td>\n",
              "    </tr>\n",
              "    <tr>\n",
              "      <th>...</th>\n",
              "      <td>...</td>\n",
              "      <td>...</td>\n",
              "      <td>...</td>\n",
              "      <td>...</td>\n",
              "      <td>...</td>\n",
              "      <td>...</td>\n",
              "    </tr>\n",
              "    <tr>\n",
              "      <th>2875</th>\n",
              "      <td>94108</td>\n",
              "      <td>INFP</td>\n",
              "      <td>wonder fuck crap happen lot point idea really ...</td>\n",
              "      <td>[wonder, fuck, crap, happen, lot, point, idea,...</td>\n",
              "      <td>wonder fuck crap happen lot point idea really...</td>\n",
              "      <td>9</td>\n",
              "    </tr>\n",
              "    <tr>\n",
              "      <th>2876</th>\n",
              "      <td>94109</td>\n",
              "      <td>INFP</td>\n",
              "      <td>maybe enfj probably fe dom sjokz isfp deficio ...</td>\n",
              "      <td>[maybe, enfj, probably, fe, dom, sjokz, isfp, ...</td>\n",
              "      <td>maybe enfj probably fe dom sjokz isfp deficio...</td>\n",
              "      <td>9</td>\n",
              "    </tr>\n",
              "    <tr>\n",
              "      <th>2877</th>\n",
              "      <td>94110</td>\n",
              "      <td>INFP</td>\n",
              "      <td>say symptom mine im say infp people sort perso...</td>\n",
              "      <td>[say, symptom, mine, im, say, infp, people, so...</td>\n",
              "      <td>say symptom mine im say infp people sort pers...</td>\n",
              "      <td>9</td>\n",
              "    </tr>\n",
              "    <tr>\n",
              "      <th>2878</th>\n",
              "      <td>94111</td>\n",
              "      <td>INFP</td>\n",
              "      <td>belief word sound like word someone close mind...</td>\n",
              "      <td>[belief, word, sound, like, word, someone, clo...</td>\n",
              "      <td>belief word sound like word someone close min...</td>\n",
              "      <td>9</td>\n",
              "    </tr>\n",
              "    <tr>\n",
              "      <th>2879</th>\n",
              "      <td>94112</td>\n",
              "      <td>INFP</td>\n",
              "      <td>confuse process think hold lot merit read yes ...</td>\n",
              "      <td>[confuse, process, think, hold, lot, merit, re...</td>\n",
              "      <td>confuse process think hold lot merit read yes...</td>\n",
              "      <td>9</td>\n",
              "    </tr>\n",
              "  </tbody>\n",
              "</table>\n",
              "<p>2880 rows × 6 columns</p>\n",
              "</div>\n",
              "      <button class=\"colab-df-convert\" onclick=\"convertToInteractive('df-d9ceacca-9576-4106-a996-2855bf76b68e')\"\n",
              "              title=\"Convert this dataframe to an interactive table.\"\n",
              "              style=\"display:none;\">\n",
              "        \n",
              "  <svg xmlns=\"http://www.w3.org/2000/svg\" height=\"24px\"viewBox=\"0 0 24 24\"\n",
              "       width=\"24px\">\n",
              "    <path d=\"M0 0h24v24H0V0z\" fill=\"none\"/>\n",
              "    <path d=\"M18.56 5.44l.94 2.06.94-2.06 2.06-.94-2.06-.94-.94-2.06-.94 2.06-2.06.94zm-11 1L8.5 8.5l.94-2.06 2.06-.94-2.06-.94L8.5 2.5l-.94 2.06-2.06.94zm10 10l.94 2.06.94-2.06 2.06-.94-2.06-.94-.94-2.06-.94 2.06-2.06.94z\"/><path d=\"M17.41 7.96l-1.37-1.37c-.4-.4-.92-.59-1.43-.59-.52 0-1.04.2-1.43.59L10.3 9.45l-7.72 7.72c-.78.78-.78 2.05 0 2.83L4 21.41c.39.39.9.59 1.41.59.51 0 1.02-.2 1.41-.59l7.78-7.78 2.81-2.81c.8-.78.8-2.07 0-2.86zM5.41 20L4 18.59l7.72-7.72 1.47 1.35L5.41 20z\"/>\n",
              "  </svg>\n",
              "      </button>\n",
              "      \n",
              "  <style>\n",
              "    .colab-df-container {\n",
              "      display:flex;\n",
              "      flex-wrap:wrap;\n",
              "      gap: 12px;\n",
              "    }\n",
              "\n",
              "    .colab-df-convert {\n",
              "      background-color: #E8F0FE;\n",
              "      border: none;\n",
              "      border-radius: 50%;\n",
              "      cursor: pointer;\n",
              "      display: none;\n",
              "      fill: #1967D2;\n",
              "      height: 32px;\n",
              "      padding: 0 0 0 0;\n",
              "      width: 32px;\n",
              "    }\n",
              "\n",
              "    .colab-df-convert:hover {\n",
              "      background-color: #E2EBFA;\n",
              "      box-shadow: 0px 1px 2px rgba(60, 64, 67, 0.3), 0px 1px 3px 1px rgba(60, 64, 67, 0.15);\n",
              "      fill: #174EA6;\n",
              "    }\n",
              "\n",
              "    [theme=dark] .colab-df-convert {\n",
              "      background-color: #3B4455;\n",
              "      fill: #D2E3FC;\n",
              "    }\n",
              "\n",
              "    [theme=dark] .colab-df-convert:hover {\n",
              "      background-color: #434B5C;\n",
              "      box-shadow: 0px 1px 3px 1px rgba(0, 0, 0, 0.15);\n",
              "      filter: drop-shadow(0px 1px 2px rgba(0, 0, 0, 0.3));\n",
              "      fill: #FFFFFF;\n",
              "    }\n",
              "  </style>\n",
              "\n",
              "      <script>\n",
              "        const buttonEl =\n",
              "          document.querySelector('#df-d9ceacca-9576-4106-a996-2855bf76b68e button.colab-df-convert');\n",
              "        buttonEl.style.display =\n",
              "          google.colab.kernel.accessAllowed ? 'block' : 'none';\n",
              "\n",
              "        async function convertToInteractive(key) {\n",
              "          const element = document.querySelector('#df-d9ceacca-9576-4106-a996-2855bf76b68e');\n",
              "          const dataTable =\n",
              "            await google.colab.kernel.invokeFunction('convertToInteractive',\n",
              "                                                     [key], {});\n",
              "          if (!dataTable) return;\n",
              "\n",
              "          const docLinkHtml = 'Like what you see? Visit the ' +\n",
              "            '<a target=\"_blank\" href=https://colab.research.google.com/notebooks/data_table.ipynb>data table notebook</a>'\n",
              "            + ' to learn more about interactive tables.';\n",
              "          element.innerHTML = '';\n",
              "          dataTable['output_type'] = 'display_data';\n",
              "          await google.colab.output.renderOutput(dataTable, element);\n",
              "          const docLink = document.createElement('div');\n",
              "          docLink.innerHTML = docLinkHtml;\n",
              "          element.appendChild(docLink);\n",
              "        }\n",
              "      </script>\n",
              "    </div>\n",
              "  </div>\n",
              "  "
            ]
          },
          "metadata": {},
          "execution_count": 19
        }
      ]
    },
    {
      "cell_type": "markdown",
      "source": [
        "## Modelling"
      ],
      "metadata": {
        "id": "lmElq1D7syIy"
      }
    },
    {
      "cell_type": "markdown",
      "source": [
        "### Train Test Split"
      ],
      "metadata": {
        "id": "XgbLalFT1A1_"
      }
    },
    {
      "cell_type": "code",
      "source": [
        "split = StratifiedShuffleSplit(n_splits=1, test_size=0.2, random_state=42)\n",
        "for train_index, test_index in split.split(df.posts, df.type):\n",
        "  train = df.loc[train_index] \n",
        "  test = df.loc[test_index] "
      ],
      "metadata": {
        "id": "0YHjSNvznVib"
      },
      "execution_count": 20,
      "outputs": []
    },
    {
      "cell_type": "code",
      "source": [
        "# X and y(target values) split for train and test\n",
        "X_train = train['sentences']\n",
        "y_train = train['labels']\n",
        "\n",
        "X_test = test['sentences']\n",
        "y_test = test['labels']"
      ],
      "metadata": {
        "id": "aRtjHsAl7WKA"
      },
      "execution_count": 21,
      "outputs": []
    },
    {
      "cell_type": "code",
      "source": [
        "# classifiers we want to test for\n",
        "bnb = BernoulliNB()\n",
        "cnb = ComplementNB()\n",
        "mnb = MultinomialNB()\n",
        "rf =  RandomForestClassifier()\n",
        "lg =  LogisticRegression()"
      ],
      "metadata": {
        "id": "noRYm1QCriNN"
      },
      "execution_count": 22,
      "outputs": []
    },
    {
      "cell_type": "code",
      "source": [
        "# we've put our models into a list for autmoated training and testing\n",
        "models = [bnb, cnb, mnb, rf, lg] "
      ],
      "metadata": {
        "id": "3p0tLq1LtNi9"
      },
      "execution_count": 23,
      "outputs": []
    },
    {
      "cell_type": "markdown",
      "source": [
        "### Count Vectorizer"
      ],
      "metadata": {
        "id": "4VUqT9qSbe_B"
      }
    },
    {
      "cell_type": "code",
      "source": [
        "vect = CountVectorizer()\n",
        "train_sent_list = train['sentences'].to_list()\n",
        "train_countvec = vect.fit_transform(train_sent_list)\n",
        "test_countvec = vect.transform(test['sentences'])"
      ],
      "metadata": {
        "id": "Z_yTl-ms9vnX"
      },
      "execution_count": 24,
      "outputs": []
    },
    {
      "cell_type": "code",
      "source": [
        "def print_reports(models,train=True):\n",
        "  \"\"\" Prints precision, recall and f1 scores using countvec data using all models\"\"\"\n",
        "  for model in models:\n",
        "    model.fit(train_countvec, y_train)\n",
        "    \n",
        "    if train:\n",
        "      print('RESULTS FOR TRAINING SET')\n",
        "      print(model)\n",
        "      y_predict = model.predict(train_countvec)\n",
        "      print(classification_report(y_train,y_predict))\n",
        "      print('\\n\\n')\n",
        "\n",
        "    else:\n",
        "      print('RESULTS FOR TEST SET')\n",
        "      print(model)\n",
        "      y_predict = model.predict(test_countvec)\n",
        "      print(classification_report(y_test,y_predict))\n",
        "      print('\\n\\n')\n",
        "  "
      ],
      "metadata": {
        "id": "7K1IPQ_1uQq1"
      },
      "execution_count": 25,
      "outputs": []
    },
    {
      "cell_type": "markdown",
      "source": [
        "#### Train Set"
      ],
      "metadata": {
        "id": "djLEjNqXfIrZ"
      }
    },
    {
      "cell_type": "code",
      "source": [
        "print_reports(models)"
      ],
      "metadata": {
        "colab": {
          "base_uri": "https://localhost:8080/"
        },
        "id": "-twddNA4sQp_",
        "outputId": "c24b08d1-669d-42cd-91bb-63f3dd45a186"
      },
      "execution_count": 26,
      "outputs": [
        {
          "output_type": "stream",
          "name": "stdout",
          "text": [
            "RESULTS FOR TRAINING SET\n",
            "BernoulliNB()\n",
            "              precision    recall  f1-score   support\n",
            "\n",
            "           0       0.99      1.00      0.99       144\n",
            "           1       1.00      1.00      1.00       144\n",
            "           2       1.00      0.99      1.00       144\n",
            "           3       1.00      0.99      1.00       144\n",
            "           4       0.99      1.00      0.99       144\n",
            "           5       0.99      1.00      0.99       144\n",
            "           6       0.99      0.91      0.95       144\n",
            "           7       1.00      0.98      0.99       144\n",
            "           8       1.00      1.00      1.00       144\n",
            "           9       1.00      0.99      1.00       144\n",
            "          10       1.00      1.00      1.00       144\n",
            "          11       0.99      1.00      1.00       144\n",
            "          12       0.96      1.00      0.98       144\n",
            "          13       0.97      1.00      0.99       144\n",
            "          14       1.00      1.00      1.00       144\n",
            "          15       0.99      1.00      1.00       144\n",
            "\n",
            "    accuracy                           0.99      2304\n",
            "   macro avg       0.99      0.99      0.99      2304\n",
            "weighted avg       0.99      0.99      0.99      2304\n",
            "\n",
            "\n",
            "\n",
            "\n",
            "RESULTS FOR TRAINING SET\n",
            "ComplementNB()\n",
            "              precision    recall  f1-score   support\n",
            "\n",
            "           0       1.00      0.96      0.98       144\n",
            "           1       1.00      1.00      1.00       144\n",
            "           2       1.00      0.99      1.00       144\n",
            "           3       1.00      1.00      1.00       144\n",
            "           4       1.00      1.00      1.00       144\n",
            "           5       1.00      1.00      1.00       144\n",
            "           6       0.96      1.00      0.98       144\n",
            "           7       1.00      1.00      1.00       144\n",
            "           8       1.00      1.00      1.00       144\n",
            "           9       1.00      1.00      1.00       144\n",
            "          10       1.00      1.00      1.00       144\n",
            "          11       1.00      1.00      1.00       144\n",
            "          12       1.00      1.00      1.00       144\n",
            "          13       0.99      1.00      1.00       144\n",
            "          14       1.00      1.00      1.00       144\n",
            "          15       1.00      1.00      1.00       144\n",
            "\n",
            "    accuracy                           1.00      2304\n",
            "   macro avg       1.00      1.00      1.00      2304\n",
            "weighted avg       1.00      1.00      1.00      2304\n",
            "\n",
            "\n",
            "\n",
            "\n",
            "RESULTS FOR TRAINING SET\n",
            "MultinomialNB()\n",
            "              precision    recall  f1-score   support\n",
            "\n",
            "           0       0.99      1.00      1.00       144\n",
            "           1       1.00      1.00      1.00       144\n",
            "           2       1.00      0.97      0.99       144\n",
            "           3       1.00      1.00      1.00       144\n",
            "           4       0.99      1.00      0.99       144\n",
            "           5       0.99      1.00      1.00       144\n",
            "           6       1.00      0.92      0.96       144\n",
            "           7       1.00      0.98      0.99       144\n",
            "           8       0.99      1.00      0.99       144\n",
            "           9       1.00      1.00      1.00       144\n",
            "          10       1.00      1.00      1.00       144\n",
            "          11       1.00      0.99      1.00       144\n",
            "          12       0.94      1.00      0.97       144\n",
            "          13       0.98      1.00      0.99       144\n",
            "          14       1.00      1.00      1.00       144\n",
            "          15       0.99      1.00      1.00       144\n",
            "\n",
            "    accuracy                           0.99      2304\n",
            "   macro avg       0.99      0.99      0.99      2304\n",
            "weighted avg       0.99      0.99      0.99      2304\n",
            "\n",
            "\n",
            "\n",
            "\n",
            "RESULTS FOR TRAINING SET\n",
            "RandomForestClassifier()\n",
            "              precision    recall  f1-score   support\n",
            "\n",
            "           0       1.00      1.00      1.00       144\n",
            "           1       1.00      1.00      1.00       144\n",
            "           2       1.00      1.00      1.00       144\n",
            "           3       1.00      1.00      1.00       144\n",
            "           4       1.00      1.00      1.00       144\n",
            "           5       1.00      1.00      1.00       144\n",
            "           6       1.00      1.00      1.00       144\n",
            "           7       1.00      1.00      1.00       144\n",
            "           8       1.00      1.00      1.00       144\n",
            "           9       1.00      1.00      1.00       144\n",
            "          10       1.00      1.00      1.00       144\n",
            "          11       1.00      1.00      1.00       144\n",
            "          12       1.00      1.00      1.00       144\n",
            "          13       1.00      1.00      1.00       144\n",
            "          14       1.00      1.00      1.00       144\n",
            "          15       1.00      1.00      1.00       144\n",
            "\n",
            "    accuracy                           1.00      2304\n",
            "   macro avg       1.00      1.00      1.00      2304\n",
            "weighted avg       1.00      1.00      1.00      2304\n",
            "\n",
            "\n",
            "\n",
            "\n",
            "RESULTS FOR TRAINING SET\n",
            "LogisticRegression()\n",
            "              precision    recall  f1-score   support\n",
            "\n",
            "           0       1.00      1.00      1.00       144\n",
            "           1       1.00      1.00      1.00       144\n",
            "           2       1.00      1.00      1.00       144\n",
            "           3       1.00      1.00      1.00       144\n",
            "           4       1.00      1.00      1.00       144\n",
            "           5       1.00      1.00      1.00       144\n",
            "           6       1.00      1.00      1.00       144\n",
            "           7       1.00      1.00      1.00       144\n",
            "           8       1.00      1.00      1.00       144\n",
            "           9       1.00      1.00      1.00       144\n",
            "          10       1.00      1.00      1.00       144\n",
            "          11       1.00      1.00      1.00       144\n",
            "          12       1.00      1.00      1.00       144\n",
            "          13       1.00      1.00      1.00       144\n",
            "          14       1.00      1.00      1.00       144\n",
            "          15       1.00      1.00      1.00       144\n",
            "\n",
            "    accuracy                           1.00      2304\n",
            "   macro avg       1.00      1.00      1.00      2304\n",
            "weighted avg       1.00      1.00      1.00      2304\n",
            "\n",
            "\n",
            "\n",
            "\n"
          ]
        },
        {
          "output_type": "stream",
          "name": "stderr",
          "text": [
            "/usr/local/lib/python3.7/dist-packages/sklearn/linear_model/_logistic.py:818: ConvergenceWarning: lbfgs failed to converge (status=1):\n",
            "STOP: TOTAL NO. of ITERATIONS REACHED LIMIT.\n",
            "\n",
            "Increase the number of iterations (max_iter) or scale the data as shown in:\n",
            "    https://scikit-learn.org/stable/modules/preprocessing.html\n",
            "Please also refer to the documentation for alternative solver options:\n",
            "    https://scikit-learn.org/stable/modules/linear_model.html#logistic-regression\n",
            "  extra_warning_msg=_LOGISTIC_SOLVER_CONVERGENCE_MSG,\n"
          ]
        }
      ]
    },
    {
      "cell_type": "markdown",
      "source": [
        "### Test Set"
      ],
      "metadata": {
        "id": "tmnMEw5wfSSr"
      }
    },
    {
      "cell_type": "code",
      "source": [
        "print_reports(models, train=False)"
      ],
      "metadata": {
        "colab": {
          "base_uri": "https://localhost:8080/"
        },
        "id": "J_0EqbO_fLdu",
        "outputId": "44627258-8e27-4188-842c-4399ca7a00d6"
      },
      "execution_count": 27,
      "outputs": [
        {
          "output_type": "stream",
          "name": "stdout",
          "text": [
            "RESULTS FOR TEST SET\n",
            "BernoulliNB()\n",
            "              precision    recall  f1-score   support\n",
            "\n",
            "           0       0.69      0.67      0.68        36\n",
            "           1       0.52      0.61      0.56        36\n",
            "           2       1.00      0.50      0.67        36\n",
            "           3       0.81      0.47      0.60        36\n",
            "           4       0.70      0.86      0.78        36\n",
            "           5       0.76      0.81      0.78        36\n",
            "           6       1.00      0.67      0.80        36\n",
            "           7       1.00      0.81      0.89        36\n",
            "           8       0.38      0.75      0.50        36\n",
            "           9       0.38      0.33      0.35        36\n",
            "          10       0.50      0.44      0.47        36\n",
            "          11       0.52      0.31      0.39        36\n",
            "          12       0.48      0.92      0.63        36\n",
            "          13       0.63      0.67      0.65        36\n",
            "          14       0.69      0.67      0.68        36\n",
            "          15       0.74      0.56      0.63        36\n",
            "\n",
            "    accuracy                           0.63       576\n",
            "   macro avg       0.68      0.63      0.63       576\n",
            "weighted avg       0.68      0.63      0.63       576\n",
            "\n",
            "\n",
            "\n",
            "\n",
            "RESULTS FOR TEST SET\n",
            "ComplementNB()\n",
            "              precision    recall  f1-score   support\n",
            "\n",
            "           0       0.72      0.64      0.68        36\n",
            "           1       0.57      0.69      0.62        36\n",
            "           2       0.90      0.78      0.84        36\n",
            "           3       0.81      0.58      0.68        36\n",
            "           4       0.74      0.97      0.84        36\n",
            "           5       0.92      0.94      0.93        36\n",
            "           6       0.94      0.94      0.94        36\n",
            "           7       0.69      1.00      0.82        36\n",
            "           8       0.58      0.53      0.55        36\n",
            "           9       0.63      0.47      0.54        36\n",
            "          10       0.54      0.58      0.56        36\n",
            "          11       0.45      0.28      0.34        36\n",
            "          12       0.67      0.86      0.76        36\n",
            "          13       0.89      0.92      0.90        36\n",
            "          14       0.75      0.83      0.79        36\n",
            "          15       0.89      0.67      0.76        36\n",
            "\n",
            "    accuracy                           0.73       576\n",
            "   macro avg       0.73      0.73      0.72       576\n",
            "weighted avg       0.73      0.73      0.72       576\n",
            "\n",
            "\n",
            "\n",
            "\n",
            "RESULTS FOR TEST SET\n",
            "MultinomialNB()\n",
            "              precision    recall  f1-score   support\n",
            "\n",
            "           0       0.72      0.64      0.68        36\n",
            "           1       0.48      0.75      0.59        36\n",
            "           2       0.96      0.61      0.75        36\n",
            "           3       0.81      0.61      0.70        36\n",
            "           4       0.65      0.89      0.75        36\n",
            "           5       0.78      0.86      0.82        36\n",
            "           6       1.00      0.67      0.80        36\n",
            "           7       0.97      0.92      0.94        36\n",
            "           8       0.43      0.64      0.52        36\n",
            "           9       0.56      0.42      0.48        36\n",
            "          10       0.61      0.56      0.58        36\n",
            "          11       0.59      0.47      0.52        36\n",
            "          12       0.52      0.86      0.65        36\n",
            "          13       0.75      0.75      0.75        36\n",
            "          14       0.86      0.69      0.77        36\n",
            "          15       0.83      0.56      0.67        36\n",
            "\n",
            "    accuracy                           0.68       576\n",
            "   macro avg       0.72      0.68      0.68       576\n",
            "weighted avg       0.72      0.68      0.68       576\n",
            "\n",
            "\n",
            "\n",
            "\n",
            "RESULTS FOR TEST SET\n",
            "RandomForestClassifier()\n",
            "              precision    recall  f1-score   support\n",
            "\n",
            "           0       0.69      0.75      0.72        36\n",
            "           1       0.61      0.64      0.62        36\n",
            "           2       0.68      0.89      0.77        36\n",
            "           3       0.57      0.47      0.52        36\n",
            "           4       0.75      0.83      0.79        36\n",
            "           5       0.74      0.72      0.73        36\n",
            "           6       0.97      0.94      0.96        36\n",
            "           7       0.66      0.97      0.79        36\n",
            "           8       0.60      0.50      0.55        36\n",
            "           9       0.56      0.53      0.54        36\n",
            "          10       0.47      0.44      0.46        36\n",
            "          11       0.62      0.42      0.50        36\n",
            "          12       0.85      0.81      0.83        36\n",
            "          13       0.76      0.81      0.78        36\n",
            "          14       0.72      0.78      0.75        36\n",
            "          15       0.77      0.56      0.65        36\n",
            "\n",
            "    accuracy                           0.69       576\n",
            "   macro avg       0.69      0.69      0.68       576\n",
            "weighted avg       0.69      0.69      0.68       576\n",
            "\n",
            "\n",
            "\n",
            "\n",
            "RESULTS FOR TEST SET\n",
            "LogisticRegression()\n",
            "              precision    recall  f1-score   support\n",
            "\n",
            "           0       0.74      0.69      0.71        36\n",
            "           1       0.86      0.69      0.77        36\n",
            "           2       0.66      0.81      0.73        36\n",
            "           3       0.63      0.75      0.68        36\n",
            "           4       0.88      0.81      0.84        36\n",
            "           5       0.82      0.78      0.80        36\n",
            "           6       0.94      0.81      0.87        36\n",
            "           7       0.92      0.92      0.92        36\n",
            "           8       0.58      0.53      0.55        36\n",
            "           9       0.68      0.64      0.66        36\n",
            "          10       0.55      0.58      0.57        36\n",
            "          11       0.51      0.61      0.56        36\n",
            "          12       0.71      0.69      0.70        36\n",
            "          13       0.77      0.83      0.80        36\n",
            "          14       0.76      0.81      0.78        36\n",
            "          15       0.78      0.69      0.74        36\n",
            "\n",
            "    accuracy                           0.73       576\n",
            "   macro avg       0.74      0.73      0.73       576\n",
            "weighted avg       0.74      0.73      0.73       576\n",
            "\n",
            "\n",
            "\n",
            "\n"
          ]
        },
        {
          "output_type": "stream",
          "name": "stderr",
          "text": [
            "/usr/local/lib/python3.7/dist-packages/sklearn/linear_model/_logistic.py:818: ConvergenceWarning: lbfgs failed to converge (status=1):\n",
            "STOP: TOTAL NO. of ITERATIONS REACHED LIMIT.\n",
            "\n",
            "Increase the number of iterations (max_iter) or scale the data as shown in:\n",
            "    https://scikit-learn.org/stable/modules/preprocessing.html\n",
            "Please also refer to the documentation for alternative solver options:\n",
            "    https://scikit-learn.org/stable/modules/linear_model.html#logistic-regression\n",
            "  extra_warning_msg=_LOGISTIC_SOLVER_CONVERGENCE_MSG,\n"
          ]
        }
      ]
    },
    {
      "cell_type": "markdown",
      "source": [
        "## TF-IDF Vectorizer"
      ],
      "metadata": {
        "id": "R1y5vykea_bM"
      }
    },
    {
      "cell_type": "code",
      "source": [
        "tfidf_vectorizer = TfidfVectorizer(use_idf=True)\n",
        "X_train_vectors_tfidf = tfidf_vectorizer.fit_transform(X_train) \n",
        "X_test_vectors_tfidf = tfidf_vectorizer.transform(X_test)"
      ],
      "metadata": {
        "id": "6tF6SVWKfN3P"
      },
      "execution_count": 28,
      "outputs": []
    },
    {
      "cell_type": "code",
      "source": [
        "tfidf_vectorizer = TfidfVectorizer(use_idf=True)\n",
        "\n",
        "X_train_vectors_tfidf = tfidf_vectorizer.fit_transform(X_train)\n",
        "X_test_vectors_tfidf = tfidf_vectorizer.transform(X_test)\n",
        "\n",
        "def tf_idf_reports(models,train=True):\n",
        "  \"\"\" prints precision, recall and f1 scores using tf-idf data \"\"\"\n",
        "  for model in models:\n",
        "    model.fit(X_train_vectors_tfidf, y_train)\n",
        "    if train:\n",
        "      print('RESULTS FOR TRAINING SET')\n",
        "      print(model)\n",
        "      y_predict = model.predict(X_train_vectors_tfidf)\n",
        "      print(classification_report(y_train,y_predict))\n",
        "      print('\\n\\n')\n",
        "\n",
        "    else:\n",
        "      print('RESULTS FOR TEST SET')\n",
        "      print(model)\n",
        "      y_predict = model.predict(X_test_vectors_tfidf)\n",
        "      print(classification_report(y_test,y_predict))\n",
        "      print('\\n\\n')\n"
      ],
      "metadata": {
        "id": "eMdBLH61vhyN"
      },
      "execution_count": 29,
      "outputs": []
    },
    {
      "cell_type": "markdown",
      "source": [
        "### Train Set"
      ],
      "metadata": {
        "id": "mm1v_zzNkGTU"
      }
    },
    {
      "cell_type": "code",
      "source": [
        "tf_idf_reports(models)"
      ],
      "metadata": {
        "colab": {
          "base_uri": "https://localhost:8080/"
        },
        "id": "v0LJnhnHyDSg",
        "outputId": "5b77cdc4-6f55-4117-9ce5-e2a549535b0f"
      },
      "execution_count": 30,
      "outputs": [
        {
          "output_type": "stream",
          "name": "stdout",
          "text": [
            "RESULTS FOR TRAINING SET\n",
            "BernoulliNB()\n",
            "              precision    recall  f1-score   support\n",
            "\n",
            "           0       0.99      1.00      0.99       144\n",
            "           1       1.00      1.00      1.00       144\n",
            "           2       1.00      0.99      1.00       144\n",
            "           3       1.00      0.99      1.00       144\n",
            "           4       0.99      1.00      0.99       144\n",
            "           5       0.99      1.00      0.99       144\n",
            "           6       0.99      0.91      0.95       144\n",
            "           7       1.00      0.98      0.99       144\n",
            "           8       1.00      1.00      1.00       144\n",
            "           9       1.00      0.99      1.00       144\n",
            "          10       1.00      1.00      1.00       144\n",
            "          11       0.99      1.00      1.00       144\n",
            "          12       0.96      1.00      0.98       144\n",
            "          13       0.97      1.00      0.99       144\n",
            "          14       1.00      1.00      1.00       144\n",
            "          15       0.99      1.00      1.00       144\n",
            "\n",
            "    accuracy                           0.99      2304\n",
            "   macro avg       0.99      0.99      0.99      2304\n",
            "weighted avg       0.99      0.99      0.99      2304\n",
            "\n",
            "\n",
            "\n",
            "\n",
            "RESULTS FOR TRAINING SET\n",
            "ComplementNB()\n",
            "              precision    recall  f1-score   support\n",
            "\n",
            "           0       0.99      0.95      0.97       144\n",
            "           1       1.00      0.99      1.00       144\n",
            "           2       1.00      0.99      1.00       144\n",
            "           3       1.00      1.00      1.00       144\n",
            "           4       0.99      1.00      0.99       144\n",
            "           5       1.00      1.00      1.00       144\n",
            "           6       0.95      0.98      0.96       144\n",
            "           7       0.99      0.99      0.99       144\n",
            "           8       0.99      1.00      1.00       144\n",
            "           9       1.00      1.00      1.00       144\n",
            "          10       1.00      0.99      0.99       144\n",
            "          11       1.00      1.00      1.00       144\n",
            "          12       0.99      1.00      1.00       144\n",
            "          13       0.99      1.00      1.00       144\n",
            "          14       1.00      0.99      1.00       144\n",
            "          15       1.00      1.00      1.00       144\n",
            "\n",
            "    accuracy                           0.99      2304\n",
            "   macro avg       0.99      0.99      0.99      2304\n",
            "weighted avg       0.99      0.99      0.99      2304\n",
            "\n",
            "\n",
            "\n",
            "\n",
            "RESULTS FOR TRAINING SET\n",
            "MultinomialNB()\n",
            "              precision    recall  f1-score   support\n",
            "\n",
            "           0       0.97      1.00      0.98       144\n",
            "           1       0.88      1.00      0.94       144\n",
            "           2       1.00      0.90      0.95       144\n",
            "           3       1.00      0.90      0.95       144\n",
            "           4       0.96      0.99      0.98       144\n",
            "           5       0.88      1.00      0.94       144\n",
            "           6       1.00      0.82      0.90       144\n",
            "           7       0.99      0.92      0.95       144\n",
            "           8       0.89      1.00      0.94       144\n",
            "           9       0.99      0.98      0.99       144\n",
            "          10       1.00      0.92      0.96       144\n",
            "          11       1.00      0.93      0.96       144\n",
            "          12       0.80      1.00      0.89       144\n",
            "          13       0.97      0.99      0.98       144\n",
            "          14       1.00      0.99      1.00       144\n",
            "          15       1.00      0.89      0.94       144\n",
            "\n",
            "    accuracy                           0.95      2304\n",
            "   macro avg       0.96      0.95      0.95      2304\n",
            "weighted avg       0.96      0.95      0.95      2304\n",
            "\n",
            "\n",
            "\n",
            "\n",
            "RESULTS FOR TRAINING SET\n",
            "RandomForestClassifier()\n",
            "              precision    recall  f1-score   support\n",
            "\n",
            "           0       1.00      1.00      1.00       144\n",
            "           1       1.00      1.00      1.00       144\n",
            "           2       1.00      1.00      1.00       144\n",
            "           3       1.00      1.00      1.00       144\n",
            "           4       1.00      1.00      1.00       144\n",
            "           5       1.00      1.00      1.00       144\n",
            "           6       1.00      1.00      1.00       144\n",
            "           7       1.00      1.00      1.00       144\n",
            "           8       1.00      1.00      1.00       144\n",
            "           9       1.00      1.00      1.00       144\n",
            "          10       1.00      1.00      1.00       144\n",
            "          11       1.00      1.00      1.00       144\n",
            "          12       1.00      1.00      1.00       144\n",
            "          13       1.00      1.00      1.00       144\n",
            "          14       1.00      1.00      1.00       144\n",
            "          15       1.00      1.00      1.00       144\n",
            "\n",
            "    accuracy                           1.00      2304\n",
            "   macro avg       1.00      1.00      1.00      2304\n",
            "weighted avg       1.00      1.00      1.00      2304\n",
            "\n",
            "\n",
            "\n",
            "\n",
            "RESULTS FOR TRAINING SET\n",
            "LogisticRegression()\n",
            "              precision    recall  f1-score   support\n",
            "\n",
            "           0       1.00      0.99      0.99       144\n",
            "           1       0.99      0.99      0.99       144\n",
            "           2       0.99      0.99      0.99       144\n",
            "           3       0.99      1.00      1.00       144\n",
            "           4       0.99      0.98      0.98       144\n",
            "           5       1.00      1.00      1.00       144\n",
            "           6       1.00      0.95      0.98       144\n",
            "           7       0.99      0.99      0.99       144\n",
            "           8       0.97      0.99      0.98       144\n",
            "           9       0.99      1.00      0.99       144\n",
            "          10       0.98      0.98      0.98       144\n",
            "          11       0.99      0.99      0.99       144\n",
            "          12       0.97      0.99      0.98       144\n",
            "          13       0.98      0.99      0.99       144\n",
            "          14       0.98      0.99      0.99       144\n",
            "          15       1.00      0.99      0.99       144\n",
            "\n",
            "    accuracy                           0.99      2304\n",
            "   macro avg       0.99      0.99      0.99      2304\n",
            "weighted avg       0.99      0.99      0.99      2304\n",
            "\n",
            "\n",
            "\n",
            "\n"
          ]
        }
      ]
    },
    {
      "cell_type": "markdown",
      "source": [
        "###Test Set"
      ],
      "metadata": {
        "id": "tUFI_X4DkMbf"
      }
    },
    {
      "cell_type": "code",
      "source": [
        "tf_idf_reports(models, train=False)"
      ],
      "metadata": {
        "colab": {
          "base_uri": "https://localhost:8080/"
        },
        "id": "rKu4xHKxgAwK",
        "outputId": "5e23e0f4-a0c7-450f-e5a1-e8d87317edbb"
      },
      "execution_count": 31,
      "outputs": [
        {
          "output_type": "stream",
          "name": "stdout",
          "text": [
            "RESULTS FOR TEST SET\n",
            "BernoulliNB()\n",
            "              precision    recall  f1-score   support\n",
            "\n",
            "           0       0.69      0.67      0.68        36\n",
            "           1       0.52      0.61      0.56        36\n",
            "           2       1.00      0.50      0.67        36\n",
            "           3       0.81      0.47      0.60        36\n",
            "           4       0.70      0.86      0.78        36\n",
            "           5       0.76      0.81      0.78        36\n",
            "           6       1.00      0.67      0.80        36\n",
            "           7       1.00      0.81      0.89        36\n",
            "           8       0.38      0.75      0.50        36\n",
            "           9       0.38      0.33      0.35        36\n",
            "          10       0.50      0.44      0.47        36\n",
            "          11       0.52      0.31      0.39        36\n",
            "          12       0.48      0.92      0.63        36\n",
            "          13       0.63      0.67      0.65        36\n",
            "          14       0.69      0.67      0.68        36\n",
            "          15       0.74      0.56      0.63        36\n",
            "\n",
            "    accuracy                           0.63       576\n",
            "   macro avg       0.68      0.63      0.63       576\n",
            "weighted avg       0.68      0.63      0.63       576\n",
            "\n",
            "\n",
            "\n",
            "\n",
            "RESULTS FOR TEST SET\n",
            "ComplementNB()\n",
            "              precision    recall  f1-score   support\n",
            "\n",
            "           0       0.76      0.72      0.74        36\n",
            "           1       0.52      0.75      0.61        36\n",
            "           2       0.94      0.81      0.87        36\n",
            "           3       0.78      0.39      0.52        36\n",
            "           4       0.73      0.92      0.81        36\n",
            "           5       0.79      0.94      0.86        36\n",
            "           6       0.97      0.94      0.96        36\n",
            "           7       0.78      1.00      0.88        36\n",
            "           8       0.52      0.67      0.59        36\n",
            "           9       0.57      0.36      0.44        36\n",
            "          10       0.48      0.42      0.45        36\n",
            "          11       0.50      0.25      0.33        36\n",
            "          12       0.71      0.89      0.79        36\n",
            "          13       0.89      0.89      0.89        36\n",
            "          14       0.71      0.81      0.75        36\n",
            "          15       0.81      0.72      0.76        36\n",
            "\n",
            "    accuracy                           0.72       576\n",
            "   macro avg       0.72      0.72      0.70       576\n",
            "weighted avg       0.72      0.72      0.70       576\n",
            "\n",
            "\n",
            "\n",
            "\n",
            "RESULTS FOR TEST SET\n",
            "MultinomialNB()\n",
            "              precision    recall  f1-score   support\n",
            "\n",
            "           0       0.67      0.67      0.67        36\n",
            "           1       0.31      0.83      0.45        36\n",
            "           2       1.00      0.44      0.62        36\n",
            "           3       0.86      0.17      0.28        36\n",
            "           4       0.79      0.83      0.81        36\n",
            "           5       0.45      0.92      0.61        36\n",
            "           6       1.00      0.64      0.78        36\n",
            "           7       1.00      0.72      0.84        36\n",
            "           8       0.28      0.61      0.39        36\n",
            "           9       0.87      0.36      0.51        36\n",
            "          10       0.83      0.14      0.24        36\n",
            "          11       0.40      0.06      0.10        36\n",
            "          12       0.38      0.89      0.53        36\n",
            "          13       0.84      0.75      0.79        36\n",
            "          14       0.83      0.53      0.64        36\n",
            "          15       0.88      0.39      0.54        36\n",
            "\n",
            "    accuracy                           0.56       576\n",
            "   macro avg       0.71      0.56      0.55       576\n",
            "weighted avg       0.71      0.56      0.55       576\n",
            "\n",
            "\n",
            "\n",
            "\n",
            "RESULTS FOR TEST SET\n",
            "RandomForestClassifier()\n",
            "              precision    recall  f1-score   support\n",
            "\n",
            "           0       0.67      0.72      0.69        36\n",
            "           1       0.52      0.72      0.60        36\n",
            "           2       0.79      0.75      0.77        36\n",
            "           3       0.71      0.33      0.45        36\n",
            "           4       0.84      0.75      0.79        36\n",
            "           5       0.50      0.78      0.61        36\n",
            "           6       1.00      0.94      0.97        36\n",
            "           7       0.65      0.94      0.77        36\n",
            "           8       0.33      0.33      0.33        36\n",
            "           9       0.56      0.50      0.53        36\n",
            "          10       0.44      0.42      0.43        36\n",
            "          11       0.44      0.33      0.38        36\n",
            "          12       0.59      0.64      0.61        36\n",
            "          13       0.71      0.67      0.69        36\n",
            "          14       0.64      0.69      0.67        36\n",
            "          15       0.76      0.44      0.56        36\n",
            "\n",
            "    accuracy                           0.62       576\n",
            "   macro avg       0.64      0.62      0.62       576\n",
            "weighted avg       0.64      0.62      0.62       576\n",
            "\n",
            "\n",
            "\n",
            "\n",
            "RESULTS FOR TEST SET\n",
            "LogisticRegression()\n",
            "              precision    recall  f1-score   support\n",
            "\n",
            "           0       0.78      0.78      0.78        36\n",
            "           1       0.73      0.75      0.74        36\n",
            "           2       0.83      0.83      0.83        36\n",
            "           3       0.81      0.72      0.76        36\n",
            "           4       0.97      0.86      0.91        36\n",
            "           5       0.84      0.89      0.86        36\n",
            "           6       1.00      0.83      0.91        36\n",
            "           7       0.87      0.92      0.89        36\n",
            "           8       0.59      0.64      0.61        36\n",
            "           9       0.70      0.64      0.67        36\n",
            "          10       0.54      0.69      0.61        36\n",
            "          11       0.74      0.72      0.73        36\n",
            "          12       0.82      0.89      0.85        36\n",
            "          13       0.82      0.92      0.87        36\n",
            "          14       0.89      0.86      0.87        36\n",
            "          15       0.87      0.72      0.79        36\n",
            "\n",
            "    accuracy                           0.79       576\n",
            "   macro avg       0.80      0.79      0.79       576\n",
            "weighted avg       0.80      0.79      0.79       576\n",
            "\n",
            "\n",
            "\n",
            "\n"
          ]
        }
      ]
    },
    {
      "cell_type": "markdown",
      "source": [
        "##Resutls and Conclusion"
      ],
      "metadata": {
        "id": "uxaHpxPKeWZk"
      }
    },
    {
      "cell_type": "markdown",
      "source": [
        "Generally, we can see that we have extremely high metrics scores on the training sets and noticably lower scores on the test sets. This definitely indicates our model overfitting the data. Despite this we are still achieving good f1 scores of over **70%** in both the count vectorizer and tf-idf methods. Going forward we will attempt to reduce this via regularization, to create a more robust final model. \n",
        "\n",
        "We also noted that in the preparation of our data we have cut a large portion of our data to avoid the skewed distribution. This meant we cut out a large portion of valuable data out. We would like to implement oversampling in our future versions to avoid loosing such valuable information.\n",
        "\n",
        "In summary, there are many optimizations to be still made and a final method the Word2vec method we found during our research into creating meaning from strings for machines that we would like to explore further. Given this was our first NLP project with us being fairly new to it and a given time limit. We are very happy with the base models that we have outputted thus far. "
      ],
      "metadata": {
        "id": "4CFTX9XKhTjE"
      }
    },
    {
      "cell_type": "code",
      "source": [
        ""
      ],
      "metadata": {
        "id": "-gn-x0DgkU2X"
      },
      "execution_count": 31,
      "outputs": []
    }
  ]
}